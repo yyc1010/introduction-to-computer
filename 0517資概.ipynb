{
  "nbformat": 4,
  "nbformat_minor": 0,
  "metadata": {
    "colab": {
      "provenance": [],
      "authorship_tag": "ABX9TyOTRO9K4Rvxhv849Shnu3ux",
      "include_colab_link": true
    },
    "kernelspec": {
      "name": "python3",
      "display_name": "Python 3"
    },
    "language_info": {
      "name": "python"
    }
  },
  "cells": [
    {
      "cell_type": "markdown",
      "metadata": {
        "id": "view-in-github",
        "colab_type": "text"
      },
      "source": [
        "<a href=\"https://colab.research.google.com/github/yyc1010/introduction-to-computer/blob/main/0517%E8%B3%87%E6%A6%82.ipynb\" target=\"_parent\"><img src=\"https://colab.research.google.com/assets/colab-badge.svg\" alt=\"Open In Colab\"/></a>"
      ]
    },
    {
      "cell_type": "code",
      "execution_count": 1,
      "metadata": {
        "colab": {
          "base_uri": "https://localhost:8080/"
        },
        "id": "TyPOpW3a1l0-",
        "outputId": "5104fa63-59de-4151-c70a-fd117bc00071"
      },
      "outputs": [
        {
          "output_type": "stream",
          "name": "stdout",
          "text": [
            "score:50\n",
            "Grade is: F\n"
          ]
        }
      ],
      "source": [
        "score=int(input(\"score:\"))\n",
        "if score >= 90:\n",
        "  print(\"Grade is: A\")\n",
        "elif score>=80:\n",
        "  print(\"Grade is: B\")\n",
        "elif score>=70:\n",
        "  print(\"Grade is: C\")\n",
        "elif score>=60:\n",
        "  print(\"Grade is: D\")\n",
        "else:\n",
        "  print(\"Grade is: F\")"
      ]
    },
    {
      "cell_type": "code",
      "source": [
        "rain=input(\"今天會下雨嗎?\")\n",
        "if rain==\"Y or N\":\n",
        "  print(\"要帶傘\")\n",
        "else:\n",
        "  print(\"重新輸入\")"
      ],
      "metadata": {
        "colab": {
          "base_uri": "https://localhost:8080/"
        },
        "id": "f3k9DKtF2psE",
        "outputId": "8adaca2b-af51-4493-93bd-325b8916e7ce"
      },
      "execution_count": 6,
      "outputs": [
        {
          "output_type": "stream",
          "name": "stdout",
          "text": [
            "今天會下雨嗎?R\n",
            "重新輸入\n"
          ]
        }
      ]
    },
    {
      "cell_type": "code",
      "source": [
        "score = int(input(\"score: \"))\n",
        "if score >= 90:\n",
        "    print('Grade is: A')\n",
        "elif score >= 80:\n",
        "    print('Grade is: B')\n",
        "elif score >= 70:\n",
        "    print('Grade is: C')\n",
        "elif score >= 60:\n",
        "    print('Grade is: D')\n",
        "else:\n",
        "    print('Grade is: E')"
      ],
      "metadata": {
        "colab": {
          "base_uri": "https://localhost:8080/"
        },
        "id": "pYyWlpYA3z-1",
        "outputId": "5267f216-1c5a-4322-86b2-1db0050d75a5"
      },
      "execution_count": 9,
      "outputs": [
        {
          "output_type": "stream",
          "name": "stdout",
          "text": [
            "score: 59\n",
            "Grade is: E\n"
          ]
        }
      ]
    },
    {
      "cell_type": "code",
      "source": [
        "temperature = int(input(\"temperature: \"))\n",
        "if temperature >= 37.5:\n",
        "    print('體溫過高!')\n",
        "elif 37 <= temperature <37.4:\n",
        "    print('體溫略高!')\n",
        "elif  34<= temperature <=36.9:\n",
        "    print(\"體溫正常!\")\n",
        "else:\n",
        "    print('體溫異常，請重新量測!')"
      ],
      "metadata": {
        "colab": {
          "base_uri": "https://localhost:8080/"
        },
        "id": "LfJDjZHl4ZNO",
        "outputId": "bc4a8b17-eb11-4af4-966a-b38de50cff2d"
      },
      "execution_count": 19,
      "outputs": [
        {
          "output_type": "stream",
          "name": "stdout",
          "text": [
            "temperature: 35\n",
            "體溫正常!\n"
          ]
        }
      ]
    },
    {
      "cell_type": "code",
      "source": [],
      "metadata": {
        "id": "oyP9Yc7k6OcN"
      },
      "execution_count": null,
      "outputs": []
    },
    {
      "cell_type": "code",
      "source": [
        "f=int(input(\"請輸入月份:\"))\n",
        "if f>=1 and f<=12:\n",
        "  if f==3 or f==4 or f==5:\n",
        "    print(\"春天\")\n",
        "  elif f==6 or f==7 or f==8:\n",
        "    print(\"夏天\")\n",
        "  elif f==9 or f==10 or f==11:\n",
        "    print(\"秋天\")\n",
        "  else:\n",
        "    print(\"冬天\")\n",
        "else:\n",
        "  print(\"月份不在範圍內\")"
      ],
      "metadata": {
        "colab": {
          "base_uri": "https://localhost:8080/"
        },
        "id": "5GqAaZmGSgdi",
        "outputId": "71ab8d66-d6e5-484a-954a-f970f9b6134e"
      },
      "execution_count": 20,
      "outputs": [
        {
          "output_type": "stream",
          "name": "stdout",
          "text": [
            "請輸入月份:5\n",
            "春天\n"
          ]
        }
      ]
    },
    {
      "cell_type": "code",
      "source": [
        "o=int(input(\"請輸入今年收入淨額:\"))\n",
        "if o>=2000000:\n",
        "  print(\"付稅金額:{}元\".format(o*0.3))\n",
        "elif o>=1000000:\n",
        "  print(\"付稅金額:{}元\".format(o*0.21))\n",
        "elif o>=600000:\n",
        "  print(\"付稅金額:{}元\".format(o*0.13))\n",
        "elif o>=300000:\n",
        "  print(\"付稅金額:{}元\".format(o*0.06))\n",
        "else:\n",
        "  print(\"付稅金額:{}元\".format(0))"
      ],
      "metadata": {
        "colab": {
          "base_uri": "https://localhost:8080/"
        },
        "id": "OtDm6YHs8NnW",
        "outputId": "6267aa24-b9f9-4518-9c09-c561e3337da1"
      },
      "execution_count": 21,
      "outputs": [
        {
          "output_type": "stream",
          "name": "stdout",
          "text": [
            "請輸入今年收入淨額:2000000\n",
            "付稅金額:600000.0元\n"
          ]
        }
      ]
    },
    {
      "cell_type": "code",
      "source": [],
      "metadata": {
        "id": "fXMCHAxm-f-K"
      },
      "execution_count": null,
      "outputs": []
    }
  ]
}