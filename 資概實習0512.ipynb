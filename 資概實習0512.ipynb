{
  "nbformat": 4,
  "nbformat_minor": 0,
  "metadata": {
    "colab": {
      "provenance": [],
      "authorship_tag": "ABX9TyM+x4HOq5/rSyaAVJpd/HJj",
      "include_colab_link": true
    },
    "kernelspec": {
      "name": "python3",
      "display_name": "Python 3"
    },
    "language_info": {
      "name": "python"
    }
  },
  "cells": [
    {
      "cell_type": "markdown",
      "metadata": {
        "id": "view-in-github",
        "colab_type": "text"
      },
      "source": [
        "<a href=\"https://colab.research.google.com/github/yyc1010/introduction-to-computer/blob/main/%E8%B3%87%E6%A6%82%E5%AF%A6%E7%BF%920512.ipynb\" target=\"_parent\"><img src=\"https://colab.research.google.com/assets/colab-badge.svg\" alt=\"Open In Colab\"/></a>"
      ]
    },
    {
      "cell_type": "code",
      "execution_count": 2,
      "metadata": {
        "colab": {
          "base_uri": "https://localhost:8080/"
        },
        "id": "Wz9z1bnIQu__",
        "outputId": "a7b4549b-4fb1-43a7-8ac6-5f2c2ddaf5a5"
      },
      "outputs": [
        {
          "output_type": "stream",
          "name": "stdout",
          "text": [
            "請輸入整數:43\n",
            "奇數\n",
            "Bye!!\n"
          ]
        }
      ],
      "source": [
        "num=int(input(\"請輸入整數:\"))\n",
        "if num % 2 == 0:\n",
        "  print(\"偶數\")\n",
        "else:\n",
        "  print(\"奇數\")\n",
        "print(\"Bye!!\")"
      ]
    },
    {
      "cell_type": "code",
      "source": [
        "age=int(input(\"請輸入您的年齡:\"))\n",
        "if age<18:\n",
        "  print(\"未成年人\")\n",
        "elif age >=18 and age <=65:\n",
        "  print(\"成年人\")\n",
        "else:\n",
        "  print(\"老年人\")"
      ],
      "metadata": {
        "colab": {
          "base_uri": "https://localhost:8080/"
        },
        "id": "Zf9CrkJaRyIQ",
        "outputId": "3ad70751-35fb-4af2-d90a-578e5e72dcb9"
      },
      "execution_count": 3,
      "outputs": [
        {
          "output_type": "stream",
          "name": "stdout",
          "text": [
            "請輸入您的年齡:65\n",
            "成年人\n"
          ]
        }
      ]
    },
    {
      "cell_type": "code",
      "source": [
        "f=int(input(\"請輸入月份:\"))\n",
        "if f>=1 and f<=12:\n",
        "  if f==1 or f==2 or f==3:\n",
        "    print(\"春季\")\n",
        "  elif f==4 or f==5 or f==6:\n",
        "    print(\"夏季\")\n",
        "  elif f==7 or f==8 or f==9:\n",
        "    print(\"秋季\")\n",
        "  else:\n",
        "    print(\"冬季\")\n",
        "else:\n",
        "  print(\"無效月份\")"
      ],
      "metadata": {
        "colab": {
          "base_uri": "https://localhost:8080/"
        },
        "id": "5GqAaZmGSgdi",
        "outputId": "83109118-681a-43e0-dbd3-f2406c8ab54c"
      },
      "execution_count": 9,
      "outputs": [
        {
          "output_type": "stream",
          "name": "stdout",
          "text": [
            "請輸入月份:14\n",
            "無效月份\n"
          ]
        }
      ]
    },
    {
      "cell_type": "code",
      "source": [],
      "metadata": {
        "id": "akNl-JNaSrzj"
      },
      "execution_count": null,
      "outputs": []
    }
  ]
}