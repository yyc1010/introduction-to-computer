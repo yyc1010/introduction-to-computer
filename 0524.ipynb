{
  "nbformat": 4,
  "nbformat_minor": 0,
  "metadata": {
    "colab": {
      "provenance": [],
      "authorship_tag": "ABX9TyP5PYluOAVou/Cgk/3tkJJ1",
      "include_colab_link": true
    },
    "kernelspec": {
      "name": "python3",
      "display_name": "Python 3"
    },
    "language_info": {
      "name": "python"
    }
  },
  "cells": [
    {
      "cell_type": "markdown",
      "metadata": {
        "id": "view-in-github",
        "colab_type": "text"
      },
      "source": [
        "<a href=\"https://colab.research.google.com/github/yyc1010/introduction-to-computer/blob/main/0524.ipynb\" target=\"_parent\"><img src=\"https://colab.research.google.com/assets/colab-badge.svg\" alt=\"Open In Colab\"/></a>"
      ]
    },
    {
      "cell_type": "code",
      "source": [
        "i=int(input(\"請輸入一個正整數\"))\n",
        "for i in range(1,i+1,1):\n",
        "  print(i,end=\",\")"
      ],
      "metadata": {
        "colab": {
          "base_uri": "https://localhost:8080/"
        },
        "id": "SV9BQF5f6s11",
        "outputId": "19ee5843-1ac0-4d13-a933-907102c70d00"
      },
      "execution_count": null,
      "outputs": [
        {
          "output_type": "stream",
          "name": "stdout",
          "text": [
            "請輸入一個正整數5\n",
            "1,2,3,4,5,"
          ]
        }
      ]
    },
    {
      "cell_type": "code",
      "source": [
        "i=int(input(\"請輸入一個正整數\"))\n",
        "for i in range(1,i+1,1):\n",
        "  print(i,end=\",\")"
      ],
      "metadata": {
        "colab": {
          "base_uri": "https://localhost:8080/"
        },
        "id": "oVU-Kxp57HGC",
        "outputId": "c388a17f-627e-4134-b88e-fbb99259bbb8"
      },
      "execution_count": null,
      "outputs": [
        {
          "output_type": "stream",
          "name": "stdout",
          "text": [
            "請輸入一個正整數12\n",
            "1,2,3,4,5,6,7,8,9,10,11,12,"
          ]
        }
      ]
    },
    {
      "cell_type": "code",
      "source": [
        "i=int(input(\"請輸入一個正整數\"))\n",
        "p=sum(range(1,i+1,1))\n",
        "print(\"1到{}的整數和為{}\".format(i,p))"
      ],
      "metadata": {
        "colab": {
          "base_uri": "https://localhost:8080/"
        },
        "id": "T4g4JSGq8NzF",
        "outputId": "804d50d8-bdae-4d2f-994c-73e735f71740"
      },
      "execution_count": null,
      "outputs": [
        {
          "output_type": "stream",
          "name": "stdout",
          "text": [
            "請輸入一個正整數10\n",
            "1到10的整數和為55\n"
          ]
        }
      ]
    },
    {
      "cell_type": "code",
      "source": [
        "i=int(input(\"請輸入一個正整數\"))\n",
        "t=sum(range(1,i+1,1))\n",
        "print(\"1到{}的整數和為{}\".format(i,t))"
      ],
      "metadata": {
        "colab": {
          "base_uri": "https://localhost:8080/"
        },
        "id": "15iEK7zz86l8",
        "outputId": "b9fd0e6b-7d81-4263-d63e-667289239130"
      },
      "execution_count": null,
      "outputs": [
        {
          "output_type": "stream",
          "name": "stdout",
          "text": [
            "請輸入一個正整數50\n",
            "1到50的整數和為1275\n"
          ]
        }
      ]
    },
    {
      "cell_type": "code",
      "source": [
        "b= int(input(\"請輸入一個正整數\" ))\n",
        "for a in range(1, b+1):\n",
        "    sum_result = 0\n",
        "\n",
        "    for i in range(1, a + 1):\n",
        "        sum_result += i\n",
        "\n",
        "    print(\"1到%s的整數和是：%s\" % (a, sum_result))\n"
      ],
      "metadata": {
        "id": "UFxqmg7U9rWg",
        "colab": {
          "base_uri": "https://localhost:8080/"
        },
        "outputId": "3e61e629-f64c-48bf-cac0-ab4d41303b06"
      },
      "execution_count": 83,
      "outputs": [
        {
          "output_type": "stream",
          "name": "stdout",
          "text": [
            "請輸入一個正整數10\n",
            "1到1的整數和是：1\n",
            "1到2的整數和是：3\n",
            "1到3的整數和是：6\n",
            "1到4的整數和是：10\n",
            "1到5的整數和是：15\n",
            "1到6的整數和是：21\n",
            "1到7的整數和是：28\n",
            "1到8的整數和是：36\n",
            "1到9的整數和是：45\n",
            "1到10的整數和是：55\n"
          ]
        }
      ]
    },
    {
      "cell_type": "code",
      "source": [],
      "metadata": {
        "id": "BuyQU8YMDTE4"
      },
      "execution_count": null,
      "outputs": []
    }
  ]
}