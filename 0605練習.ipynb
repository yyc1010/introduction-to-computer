{
  "nbformat": 4,
  "nbformat_minor": 0,
  "metadata": {
    "colab": {
      "provenance": [],
      "authorship_tag": "ABX9TyNRkn3MPR969c1mWZtEuoCp",
      "include_colab_link": true
    },
    "kernelspec": {
      "name": "python3",
      "display_name": "Python 3"
    },
    "language_info": {
      "name": "python"
    }
  },
  "cells": [
    {
      "cell_type": "markdown",
      "metadata": {
        "id": "view-in-github",
        "colab_type": "text"
      },
      "source": [
        "<a href=\"https://colab.research.google.com/github/yyc1010/introduction-to-computer/blob/main/0605%E7%B7%B4%E7%BF%92.ipynb\" target=\"_parent\"><img src=\"https://colab.research.google.com/assets/colab-badge.svg\" alt=\"Open In Colab\"/></a>"
      ]
    },
    {
      "cell_type": "code",
      "source": [
        "a=int(input())\n",
        "if (a>=0):\n",
        "     if (a%2 ==0):\n",
        "       print(\"{} is even\".format(a))\n",
        "     else:\n",
        "       print(\"{} is odd\".format(a))\n",
        "else:\n",
        "     print(\"Input Error\")"
      ],
      "metadata": {
        "colab": {
          "base_uri": "https://localhost:8080/"
        },
        "id": "gtkW2nTcih06",
        "outputId": "3f7a7356-fddb-4102-879c-0bfc2c3f17a7"
      },
      "execution_count": 3,
      "outputs": [
        {
          "output_type": "stream",
          "name": "stdout",
          "text": [
            "19\n",
            "19 is odd\n"
          ]
        }
      ]
    },
    {
      "cell_type": "code",
      "source": [
        "i=range(1,101)\n",
        "print(sum(i))  #總和"
      ],
      "metadata": {
        "colab": {
          "base_uri": "https://localhost:8080/"
        },
        "id": "ehUxeMSTkvk1",
        "outputId": "01a39fd8-ccdd-41ba-d36d-e480b2e43c3c"
      },
      "execution_count": 4,
      "outputs": [
        {
          "output_type": "stream",
          "name": "stdout",
          "text": [
            "5050\n"
          ]
        }
      ]
    },
    {
      "cell_type": "code",
      "source": [
        "a=int(input())             #季節判斷\n",
        "if (a>=1 and a<=12):\n",
        "  if (a==1 or a==2 or a==3):\n",
        "    print(\"{} is spring\".format(a))\n",
        "  elif(a==4 or a==5 or a==6):\n",
        "    print(\"{} is summer\".format(a))\n",
        "  elif(a==7 or a==8 or a==9):\n",
        "    print(\"{} is autumn\".format(a))\n",
        "  else:\n",
        "    print(\"{} is winter\".format(a))\n",
        "else:\n",
        "  print(\"Input Error\")"
      ],
      "metadata": {
        "colab": {
          "base_uri": "https://localhost:8080/"
        },
        "id": "cP-bI5ycnt6x",
        "outputId": "61b296c3-9d2c-4df7-ea11-e80b03a44d73"
      },
      "execution_count": 5,
      "outputs": [
        {
          "output_type": "stream",
          "name": "stdout",
          "text": [
            "12\n",
            "12 is winter\n"
          ]
        }
      ]
    },
    {
      "cell_type": "code",
      "source": [
        "a=int(input())             #計程車\n",
        "if (a>=0):\n",
        "   if(a>=5):\n",
        "     total=240+(a-5)*40\n",
        "     print(\"{} yuan\".format(total))\n",
        "   elif(a==0):\n",
        "     total=0\n",
        "     print(\"{} yuan\".format(total))\n",
        "   else:\n",
        "     total=240\n",
        "     print(\"{} yuan\".format(total))\n",
        "else:\n",
        "   print(\"Input Error\")"
      ],
      "metadata": {
        "colab": {
          "base_uri": "https://localhost:8080/"
        },
        "id": "D_FrAPnSn0Lr",
        "outputId": "30387056-e2ff-4563-f162-878f002990c9"
      },
      "execution_count": 6,
      "outputs": [
        {
          "output_type": "stream",
          "name": "stdout",
          "text": [
            "0\n",
            "0 yuan\n"
          ]
        }
      ]
    },
    {
      "cell_type": "code",
      "source": [
        "a=int(input())            #銀行複利\n",
        "if(a>=0):\n",
        "      total=100000*(1+0.03)**a\n",
        "      print(total)\n",
        "else:\n",
        "      print(\"Input Error\")"
      ],
      "metadata": {
        "colab": {
          "base_uri": "https://localhost:8080/"
        },
        "id": "CxmUUdUAqYVd",
        "outputId": "8404894f-da5f-4a4b-86b8-7a81368fc6bd"
      },
      "execution_count": 7,
      "outputs": [
        {
          "output_type": "stream",
          "name": "stdout",
          "text": [
            "5\n",
            "115927.40743\n"
          ]
        }
      ]
    },
    {
      "cell_type": "code",
      "source": [
        "50"
      ],
      "metadata": {
        "id": "JPne7dBDtO__"
      },
      "execution_count": null,
      "outputs": []
    },
    {
      "cell_type": "code",
      "source": [
        "a,b,c=input().split()    #找最小的數\n",
        "int_a=int(a)\n",
        "int_b=int(b)\n",
        "int_c=int(c)\n",
        "min=int_a\n",
        "if(int_b < min):\n",
        "   min=int_b\n",
        "if(int_c < min):\n",
        "   min=int_c\n",
        "print(min)"
      ],
      "metadata": {
        "colab": {
          "base_uri": "https://localhost:8080/"
        },
        "id": "EttyifyBwCU6",
        "outputId": "3b2e6d3e-2d89-47e0-c9dc-93cc488d0d6a"
      },
      "execution_count": 9,
      "outputs": [
        {
          "output_type": "stream",
          "name": "stdout",
          "text": [
            "50 20 13\n",
            "13\n"
          ]
        }
      ]
    },
    {
      "cell_type": "code",
      "source": [
        "a,b,c=input().split()  #找最大的數\n",
        "f_a=float(a)\n",
        "f_b=float(b)\n",
        "f_c=float(c)\n",
        "max=f_a\n",
        "if(f_b > max):\n",
        "   max=f_b\n",
        "if(f_c > max):\n",
        "   max=f_c\n",
        "print(max)"
      ],
      "metadata": {
        "colab": {
          "base_uri": "https://localhost:8080/"
        },
        "id": "JXWorNLBwHSD",
        "outputId": "b81e7f84-ddf8-4708-db7b-6bfb0989a8f9"
      },
      "execution_count": 10,
      "outputs": [
        {
          "output_type": "stream",
          "name": "stdout",
          "text": [
            "20 50 41\n",
            "50.0\n"
          ]
        }
      ]
    },
    {
      "cell_type": "code",
      "source": [
        "n=int(input())      #找所有因數\n",
        "for i in range(1,n+1):\n",
        "    if(n%i==0):\n",
        "      print(i,end=' ')"
      ],
      "metadata": {
        "colab": {
          "base_uri": "https://localhost:8080/"
        },
        "id": "qOPpMiuWxjRX",
        "outputId": "31910071-4b4a-4bd1-ba2d-36677eecd8ec"
      },
      "execution_count": 11,
      "outputs": [
        {
          "output_type": "stream",
          "name": "stdout",
          "text": [
            "50\n",
            "1 2 5 10 25 50 "
          ]
        }
      ]
    },
    {
      "cell_type": "code",
      "source": [
        "n=int(input())      #3和7的因數\n",
        "total=0\n",
        "for i in range(1,n+1):\n",
        "   if(i%3==0 or i%7==0):\n",
        "      total += i\n",
        "print(total)"
      ],
      "metadata": {
        "colab": {
          "base_uri": "https://localhost:8080/"
        },
        "id": "1ShAmimeyXys",
        "outputId": "3aeb89b3-e6ae-4732-9399-743603f7bb96"
      },
      "execution_count": 12,
      "outputs": [
        {
          "output_type": "stream",
          "name": "stdout",
          "text": [
            "50\n",
            "541\n"
          ]
        }
      ]
    },
    {
      "cell_type": "code",
      "source": [
        "n=int(input())      #用米字鍵\n",
        "for i in range(1,n+1):\n",
        "   for j in range(1,i+1):\n",
        "      print(\"*\",end=\"\")\n",
        "   print()"
      ],
      "metadata": {
        "colab": {
          "base_uri": "https://localhost:8080/"
        },
        "id": "jg1IJZ6Jz5kR",
        "outputId": "e22546b5-d114-4b18-9b2f-18d7d51a7289"
      },
      "execution_count": 13,
      "outputs": [
        {
          "output_type": "stream",
          "name": "stdout",
          "text": [
            "5\n",
            "*\n",
            "**\n",
            "***\n",
            "****\n",
            "*****\n"
          ]
        }
      ]
    },
    {
      "cell_type": "code",
      "source": [
        "n=int(input())      #數字\n",
        "for i in range(1,n+1):\n",
        "   for j in range(1,i+1):\n",
        "      print(j,end=\"\")\n",
        "   print()"
      ],
      "metadata": {
        "colab": {
          "base_uri": "https://localhost:8080/"
        },
        "id": "PLJq9Z3K1Me5",
        "outputId": "f79e6d9b-ce74-4a27-b647-d8cf102f7602"
      },
      "execution_count": 14,
      "outputs": [
        {
          "output_type": "stream",
          "name": "stdout",
          "text": [
            "5\n",
            "1\n",
            "12\n",
            "123\n",
            "1234\n",
            "12345\n"
          ]
        }
      ]
    },
    {
      "cell_type": "code",
      "source": [
        "n=input()              #大小寫\n",
        "for i in range(len(n)):\n",
        "  if(i % 2==0):\n",
        "      print(n[i].upper(),end=' ')\n",
        "  else:\n",
        "      print(n[i].lower(),end=' ')"
      ],
      "metadata": {
        "colab": {
          "base_uri": "https://localhost:8080/"
        },
        "id": "OhvGiUM61Xrm",
        "outputId": "c3b12de9-8c96-448b-a4a9-d3dc57d1f453"
      },
      "execution_count": 18,
      "outputs": [
        {
          "output_type": "stream",
          "name": "stdout",
          "text": [
            "panda\n",
            "P a N d A "
          ]
        }
      ]
    },
    {
      "cell_type": "code",
      "source": [
        "list_a=input().split()       #list倒序\n",
        "for i in range(len(list_a)-1,-1,-1):\n",
        "  print(list_a[i],end=' ')"
      ],
      "metadata": {
        "colab": {
          "base_uri": "https://localhost:8080/"
        },
        "id": "nPSMKHcY4CNn",
        "outputId": "783e9f4d-ea84-44ac-ee9b-4c2f3cb28f11"
      },
      "execution_count": 19,
      "outputs": [
        {
          "output_type": "stream",
          "name": "stdout",
          "text": [
            "banana apple orange\n",
            "orange apple banana "
          ]
        }
      ]
    },
    {
      "cell_type": "code",
      "source": [
        "a=int(input())          #判斷平閏年\n",
        "if a%4==0:\n",
        "  if a%100==0:\n",
        "    print(\"{}是平年\".format(a))\n",
        "  else:\n",
        "    print(\"{}是閏年\".format(a))\n",
        "else:\n",
        "  print(\"{}是平年\".format(a))"
      ],
      "metadata": {
        "colab": {
          "base_uri": "https://localhost:8080/"
        },
        "id": "ndItV7lR6x3Q",
        "outputId": "2982eeec-79b2-4297-a355-d0d05e088ec8"
      },
      "execution_count": 22,
      "outputs": [
        {
          "output_type": "stream",
          "name": "stdout",
          "text": [
            "2003\n",
            "2003是平年\n"
          ]
        }
      ]
    },
    {
      "cell_type": "code",
      "source": [],
      "metadata": {
        "id": "-iqFYhXJ8O1_"
      },
      "execution_count": null,
      "outputs": []
    }
  ]
}